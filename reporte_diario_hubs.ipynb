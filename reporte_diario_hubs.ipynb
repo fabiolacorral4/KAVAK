{
 "cells": [
  {
   "cell_type": "code",
   "execution_count": 204,
   "metadata": {},
   "outputs": [],
   "source": [
    "# import libraries\n",
    "import numpy as np\n",
    "import pandas as pd\n",
    "import matplotlib.pyplot as plt\n",
    "import matplotlib.patches as mpatches\n",
    "from matplotlib.pyplot import figure\n",
    "from datetime import datetime, timedelta\n",
    "from collections import OrderedDict \n",
    "import sys\n",
    "import re"
   ]
  },
  {
   "cell_type": "code",
   "execution_count": 205,
   "metadata": {},
   "outputs": [
    {
     "name": "stdout",
     "output_type": "stream",
     "text": [
      "(1275, 2)\n"
     ]
    },
    {
     "data": {
      "text/html": [
       "<div>\n",
       "<style scoped>\n",
       "    .dataframe tbody tr th:only-of-type {\n",
       "        vertical-align: middle;\n",
       "    }\n",
       "\n",
       "    .dataframe tbody tr th {\n",
       "        vertical-align: top;\n",
       "    }\n",
       "\n",
       "    .dataframe thead th {\n",
       "        text-align: right;\n",
       "    }\n",
       "</style>\n",
       "<table border=\"1\" class=\"dataframe\">\n",
       "  <thead>\n",
       "    <tr style=\"text-align: right;\">\n",
       "      <th></th>\n",
       "      <th>stockid</th>\n",
       "      <th>date_delivery</th>\n",
       "    </tr>\n",
       "  </thead>\n",
       "  <tbody>\n",
       "    <tr>\n",
       "      <th>0</th>\n",
       "      <td>16680</td>\n",
       "      <td>2019-11-25</td>\n",
       "    </tr>\n",
       "    <tr>\n",
       "      <th>1</th>\n",
       "      <td>13139</td>\n",
       "      <td>2019-11-23</td>\n",
       "    </tr>\n",
       "    <tr>\n",
       "      <th>2</th>\n",
       "      <td>13571</td>\n",
       "      <td>2019-11-24</td>\n",
       "    </tr>\n",
       "    <tr>\n",
       "      <th>3</th>\n",
       "      <td>16151</td>\n",
       "      <td>2019-12-06</td>\n",
       "    </tr>\n",
       "    <tr>\n",
       "      <th>4</th>\n",
       "      <td>17324</td>\n",
       "      <td>2020-01-20</td>\n",
       "    </tr>\n",
       "  </tbody>\n",
       "</table>\n",
       "</div>"
      ],
      "text/plain": [
       "   stockid date_delivery\n",
       "0    16680    2019-11-25\n",
       "1    13139    2019-11-23\n",
       "2    13571    2019-11-24\n",
       "3    16151    2019-12-06\n",
       "4    17324    2020-01-20"
      ]
     },
     "execution_count": 205,
     "metadata": {},
     "output_type": "execute_result"
    }
   ],
   "source": [
    "# read file 'ktotal_contratos'\n",
    "df_contratos = pd.read_csv('ktotal_contratos.csv')\n",
    "# clean data\n",
    "### format col names \n",
    "df_contratos.columns = df_contratos.columns.str.strip().str.lower().str.replace(' ', '_').str.replace('\\(', '_').str.replace('\\)', '_')\n",
    "### select and rename relevant cols\n",
    "df_contratos = df_contratos[['no._carro','fecha_de_entrega_auto']]\n",
    "df_contratos = df_contratos.rename(columns={'no._carro': 'stockid', 'fecha_de_entrega_auto':'date_delivery'})\n",
    "### format date cols\n",
    "df_contratos['date_delivery'] = pd.to_datetime(df_contratos['date_delivery'])\n",
    "# examine data\n",
    "print(df_contratos.shape)\n",
    "df_contratos.head()"
   ]
  },
  {
   "cell_type": "code",
   "execution_count": 206,
   "metadata": {
    "scrolled": true
   },
   "outputs": [
    {
     "name": "stdout",
     "output_type": "stream",
     "text": [
      "(9765, 6)\n"
     ]
    },
    {
     "data": {
      "text/html": [
       "<div>\n",
       "<style scoped>\n",
       "    .dataframe tbody tr th:only-of-type {\n",
       "        vertical-align: middle;\n",
       "    }\n",
       "\n",
       "    .dataframe tbody tr th {\n",
       "        vertical-align: top;\n",
       "    }\n",
       "\n",
       "    .dataframe thead th {\n",
       "        text-align: right;\n",
       "    }\n",
       "</style>\n",
       "<table border=\"1\" class=\"dataframe\">\n",
       "  <thead>\n",
       "    <tr style=\"text-align: right;\">\n",
       "      <th></th>\n",
       "      <th>estimate</th>\n",
       "      <th>stockid</th>\n",
       "      <th>location</th>\n",
       "      <th>date_delivery</th>\n",
       "      <th>hour</th>\n",
       "      <th>responsable_em_venta</th>\n",
       "    </tr>\n",
       "  </thead>\n",
       "  <tbody>\n",
       "    <tr>\n",
       "      <th>4077</th>\n",
       "      <td>884663</td>\n",
       "      <td>15718</td>\n",
       "      <td>WH - LERMA</td>\n",
       "      <td>2019-11-02</td>\n",
       "      <td>[9]</td>\n",
       "      <td>Aneyda Cervantes</td>\n",
       "    </tr>\n",
       "    <tr>\n",
       "      <th>4078</th>\n",
       "      <td>902755</td>\n",
       "      <td>15384</td>\n",
       "      <td>WH - LERMA</td>\n",
       "      <td>2019-11-02</td>\n",
       "      <td>[9]</td>\n",
       "      <td>Ale Gonzalez</td>\n",
       "    </tr>\n",
       "    <tr>\n",
       "      <th>4079</th>\n",
       "      <td>888086</td>\n",
       "      <td>15690</td>\n",
       "      <td>FLORENCIA</td>\n",
       "      <td>2019-11-02</td>\n",
       "      <td>[9]</td>\n",
       "      <td>Karen Garcia</td>\n",
       "    </tr>\n",
       "    <tr>\n",
       "      <th>4080</th>\n",
       "      <td>882772</td>\n",
       "      <td>15290</td>\n",
       "      <td>FLORENCIA</td>\n",
       "      <td>2019-11-02</td>\n",
       "      <td>[10]</td>\n",
       "      <td>Aneyda Cervantes</td>\n",
       "    </tr>\n",
       "    <tr>\n",
       "      <th>4081</th>\n",
       "      <td>902019</td>\n",
       "      <td>15665</td>\n",
       "      <td>WH - LERMA</td>\n",
       "      <td>2019-11-02</td>\n",
       "      <td>[10]</td>\n",
       "      <td>Yilda Pimentel</td>\n",
       "    </tr>\n",
       "  </tbody>\n",
       "</table>\n",
       "</div>"
      ],
      "text/plain": [
       "     estimate stockid    location date_delivery  hour responsable_em_venta\n",
       "4077   884663   15718  WH - LERMA    2019-11-02   [9]     Aneyda Cervantes\n",
       "4078   902755   15384  WH - LERMA    2019-11-02   [9]         Ale Gonzalez\n",
       "4079   888086   15690   FLORENCIA    2019-11-02   [9]         Karen Garcia\n",
       "4080   882772   15290   FLORENCIA    2019-11-02  [10]     Aneyda Cervantes\n",
       "4081   902019   15665  WH - LERMA    2019-11-02  [10]       Yilda Pimentel"
      ]
     },
     "execution_count": 206,
     "metadata": {},
     "output_type": "execute_result"
    }
   ],
   "source": [
    "# read file 'entregas'\n",
    "df_entregas = pd.read_csv(\"entregas.csv\")\n",
    "# clean data\n",
    "### format col names\n",
    "df_entregas.columns = df_entregas.columns.str.strip().str.lower().str.replace(' ', '_').str.replace('\\(', '_').str.replace('\\)', '_')\n",
    "### select and rename relevant cols\n",
    "df_entregas = df_entregas[['estimate_asociado','auto', 'tipo_de_lugar_destino', 'fecha_de_entrega_agendada', 'hora', 'responsable_em_venta']]\n",
    "df_entregas = df_entregas.rename(columns={'estimate_asociado': 'estimate', 'auto':'stockid', 'tipo_de_lugar_destino':'location','fecha_de_entrega_agendada':'date_delivery', 'hora':'hour'})\n",
    "### format and filter by date col\n",
    "df_entregas['date_delivery'] = pd.to_datetime(df_entregas['date_delivery'],  dayfirst=True)\n",
    "min_date = df_contratos['date_delivery'].min()\n",
    "df_entregas = df_entregas[df_entregas['date_delivery'] >= min_date]\n",
    "### format hour col\n",
    "def extr_hour(hr):\n",
    "    return re.findall('[\\d]+(?=:)', str(hr))\n",
    "df_entregas['hour'] = df_entregas['hour'].apply(extr_hour)\n",
    "### format estimate col\n",
    "df_entregas['estimate'] = df_entregas['estimate'].str[10:]\n",
    "### format stockid col\n",
    "def extr_stockid(auto):\n",
    "    return re.findall('[\\d]+', auto)[0]\n",
    "df_entregas['stockid'] = df_entregas['stockid'].apply(extr_stockid)\n",
    "# examine data\n",
    "print(df_entregas.shape)\n",
    "df_entregas.head()"
   ]
  },
  {
   "cell_type": "code",
   "execution_count": 207,
   "metadata": {},
   "outputs": [],
   "source": [
    "# Transform 'entregas' to include ktotal col\n",
    "ktotal = np.zeros(len(df_entregas))\n",
    "half_month = timedelta(days=15)\n",
    "for i in range(len(df_contratos)):\n",
    "    indcs = [ind for ind, x in enumerate(df_entregas['stockid']) \n",
    "               if int(x) == int(df_contratos['stockid'].iloc[i])]\n",
    "    for j in indcs:\n",
    "        if (((df_contratos['date_delivery'].iloc[i].date() -\n",
    "             df_entregas['date_delivery'].iloc[j].date()) < half_month) &\n",
    "            ((df_contratos['date_delivery'].iloc[i].date() -\n",
    "             df_entregas['date_delivery'].iloc[j].date()) > -half_month)\n",
    "           ):\n",
    "            ktotal[j] = 1\n",
    "df_entregas['ktotal'] = ktotal"
   ]
  },
  {
   "cell_type": "code",
   "execution_count": 208,
   "metadata": {
    "scrolled": false
   },
   "outputs": [
    {
     "name": "stdout",
     "output_type": "stream",
     "text": [
      "2020-11-11 00:00:00\n"
     ]
    },
    {
     "data": {
      "image/png": "[encoded data removed]",
      "text/plain": [
       "<Figure size 864x576 with 1 Axes>"
      ]
     },
     "metadata": {
      "needs_background": "light"
     },
     "output_type": "display_data"
    }
   ],
   "source": [
    "# Graph 1: Daily stacked bar chart\n",
    "### find curr date\n",
    "one_day = timedelta(days=1)\n",
    "curr_day = pd.to_datetime(datetime.date(datetime.now())-one_day)\n",
    "print(curr_day)\n",
    "### filter data for curr day\n",
    "df_curr_day = df_entregas[df_entregas['date_delivery']==curr_day]\n",
    "### initialize dics\n",
    "daily_entregas = {}\n",
    "daily_total = {}\n",
    "### find daily totals\n",
    "for hub, frame in df_curr_day.groupby(['location']):\n",
    "    daily_entregas[hub] = len(frame)\n",
    "    daily_total[hub] = sum(frame['ktotal'])\n",
    "### sort dics\n",
    "sorted_entr = sorted(daily_entregas.items(), key=lambda x: x[1], reverse=True)\n",
    "\n",
    "### set x and y values: entregas\n",
    "daily_entregas.pop('CASA CLIENTE')\n",
    "x_entr = daily_entregas.keys()\n",
    "y_entr = daily_entregas.values()\n",
    "### set x and y values: ktotal\n",
    "daily_total.pop('CASA CLIENTE')\n",
    "x_tot = daily_total.keys()\n",
    "y_tot = daily_total.values()\n",
    "### overlay two barcharts\n",
    "##### barchart entregas\n",
    "figure(figsize=(12,8))\n",
    "bar1 = plt.barh(x_entr, y_entr, alpha=.4, color=\"gray\")\n",
    "##### barchart ktotal\n",
    "bar2 = plt.barh(x_tot, y_tot, alpha=.4, color=\"royalblue\")\n",
    "# format title, axes, and legend\n",
    "titlestr = ('Entregas de autos y Ventas KTotal por Hub - ' + curr_day.strftime('%d/%m/%Y'))\n",
    "plt.title(titlestr, fontsize=20, fontname=\"Arial\")\n",
    "gray_patch = mpatches.Patch(color='gray', label='entregas', alpha=.5)\n",
    "blue_patch = mpatches.Patch(color='royalblue', label='ventas ktotal', alpha=.5)\n",
    "plt.legend(handles=[gray_patch, blue_patch], loc=7)\n",
    "### remove spines and tick marks\n",
    "plt.gca().spines['right'].set_visible(False)\n",
    "plt.gca().spines['top'].set_visible(False)\n",
    "plt.gca().spines['bottom'].set_visible(False)\n",
    "plt.gca().spines['left'].set_visible(False)\n",
    "plt.gca().tick_params(bottom=False)\n",
    "plt.savefig('daily_report.png')  "
   ]
  },
  {
   "cell_type": "code",
   "execution_count": null,
   "metadata": {},
   "outputs": [],
   "source": []
  }
 ],
 "metadata": {
  "kernelspec": {
   "display_name": "python3",
   "language": "python",
   "name": "python3"
  },
  "language_info": {
   "codemirror_mode": {
    "name": "ipython",
    "version": 2
   },
   "file_extension": ".py",
   "mimetype": "text/x-python",
   "name": "python",
   "nbconvert_exporter": "python",
   "pygments_lexer": "ipython2",
   "version": "2.7.16"
  }
 },
 "nbformat": 4,
 "nbformat_minor": 2
}
