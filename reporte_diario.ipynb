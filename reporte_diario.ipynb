{
 "cells": [
  {
   "cell_type": "code",
   "execution_count": 274,
   "metadata": {},
   "outputs": [],
   "source": [
    "# import libraries\n",
    "import numpy as np\n",
    "import pandas as pd\n",
    "import matplotlib.pyplot as plt\n",
    "from matplotlib.pyplot import figure"
   ]
  },
  {
   "cell_type": "code",
   "execution_count": 153,
   "metadata": {
    "scrolled": true
   },
   "outputs": [
    {
     "name": "stdout",
     "output_type": "stream",
     "text": [
      "(715, 3)\n"
     ]
    },
    {
     "data": {
      "text/html": [
       "<div>\n",
       "<style scoped>\n",
       "    .dataframe tbody tr th:only-of-type {\n",
       "        vertical-align: middle;\n",
       "    }\n",
       "\n",
       "    .dataframe tbody tr th {\n",
       "        vertical-align: top;\n",
       "    }\n",
       "\n",
       "    .dataframe thead th {\n",
       "        text-align: right;\n",
       "    }\n",
       "</style>\n",
       "<table border=\"1\" class=\"dataframe\">\n",
       "  <thead>\n",
       "    <tr style=\"text-align: right;\">\n",
       "      <th></th>\n",
       "      <th>date</th>\n",
       "      <th>cotizar_kavak_total</th>\n",
       "      <th>autorizacion_del_cliente</th>\n",
       "    </tr>\n",
       "    <tr>\n",
       "      <th>Estimate</th>\n",
       "      <th></th>\n",
       "      <th></th>\n",
       "      <th></th>\n",
       "    </tr>\n",
       "  </thead>\n",
       "  <tbody>\n",
       "    <tr>\n",
       "      <th>1968942</th>\n",
       "      <td>2020-08-01</td>\n",
       "      <td>No</td>\n",
       "      <td>No</td>\n",
       "    </tr>\n",
       "    <tr>\n",
       "      <th>1969160</th>\n",
       "      <td>2020-08-01</td>\n",
       "      <td>No</td>\n",
       "      <td>No</td>\n",
       "    </tr>\n",
       "    <tr>\n",
       "      <th>1969283</th>\n",
       "      <td>2020-08-01</td>\n",
       "      <td>No</td>\n",
       "      <td>No</td>\n",
       "    </tr>\n",
       "    <tr>\n",
       "      <th>1969677</th>\n",
       "      <td>2020-08-01</td>\n",
       "      <td>No</td>\n",
       "      <td>No</td>\n",
       "    </tr>\n",
       "    <tr>\n",
       "      <th>1969976</th>\n",
       "      <td>2020-08-01</td>\n",
       "      <td>No</td>\n",
       "      <td>No</td>\n",
       "    </tr>\n",
       "  </tbody>\n",
       "</table>\n",
       "</div>"
      ],
      "text/plain": [
       "               date cotizar_kavak_total autorizacion_del_cliente\n",
       "Estimate                                                        \n",
       "1968942  2020-08-01                  No                       No\n",
       "1969160  2020-08-01                  No                       No\n",
       "1969283  2020-08-01                  No                       No\n",
       "1969677  2020-08-01                  No                       No\n",
       "1969976  2020-08-01                  No                       No"
      ]
     },
     "execution_count": 153,
     "metadata": {},
     "output_type": "execute_result"
    }
   ],
   "source": [
    "# read file\n",
    "df = pd.read_csv(\"data_netsuite.csv\", index_col='Estimate')\n",
    "# clean data\n",
    "### clean col names\n",
    "df.columns = df.columns.str.strip().str.lower().str.replace(' ', '_').str.replace('\\(', '_').str.replace('\\)', '_')\n",
    "### format date col\n",
    "df['date'] = pd.to_datetime(df['date'])\n",
    "### only include cars with KCapital\n",
    "df =  df[df['financiamiento_ganado'] == 'Yes']\n",
    "### select relevant cols\n",
    "df = df[['date', 'cotizar_kavak_total', 'autorizacion_del_cliente']]\n",
    "# examine data\n",
    "print(df.shape)\n",
    "df.head()"
   ]
  },
  {
   "cell_type": "code",
   "execution_count": 327,
   "metadata": {
    "scrolled": true
   },
   "outputs": [
    {
     "data": {
      "image/png": "[encoded data removed]",
      "text/plain": [
       "<Figure size 576x576 with 1 Axes>"
      ]
     },
     "metadata": {
      "needs_background": "light"
     },
     "output_type": "display_data"
    }
   ],
   "source": [
    "# Graph 1: Monthly report\n",
    "### create month col\n",
    "df['month'] = df['date'].dt.month\n",
    "### extract unnique months\n",
    "months = df['month'].unique()\n",
    "### initialize dic\n",
    "monthly_data = {}\n",
    "### calculate monthly percentage\n",
    "for i in months:\n",
    "    kcapital = 0\n",
    "    ktotal = 0\n",
    "    for j in range(df.shape[0]):\n",
    "            if(df['month'].iloc[j] == i): \n",
    "                kcapital += 1\n",
    "                if((df['cotizar_kavak_total'].iloc[j] == 'Yes') & \n",
    "                   (df['autorizacion_del_cliente'].iloc[j] == 'Yes')): ktotal += 1\n",
    "    monthly_data[i] = (float(ktotal)/float(kcapital))*100\n",
    "### create bar chart \n",
    "figure(figsize=(8,8))\n",
    "x_month = monthly_data.keys()\n",
    "y_month = monthly_data.values()\n",
    "bar_plot1 = plt.bar(x_month, y_month, alpha=.6)\n",
    "plt.rcParams['font.family'] = 'Arial'\n",
    "plt.xticks(months, fontsize=15)\n",
    "plt.yticks(fontsize=15)\n",
    "plt.title('Porcentaje de financiamientos KCapital con KTotal por mes', \n",
    "          fontdict={'fontsize': 20})\n",
    "\n",
    "def autolabel(rects):\n",
    "    for idx,rect in enumerate(bar_plot1):\n",
    "        height = rect.get_height()\n",
    "        plt.text(rect.get_x() + rect.get_width()/2., 1.003*height,\n",
    "                round(y_month[idx], 2),\n",
    "                ha='center', va='bottom', rotation=0)\n",
    "\n",
    "autolabel(bar_plot1)\n",
    "\n",
    "plt.show()"
   ]
  },
  {
   "cell_type": "code",
   "execution_count": 295,
   "metadata": {},
   "outputs": [
    {
     "data": {
      "image/png": "[encoded data removed]",
      "text/plain": [
       "<Figure size 432x288 with 1 Axes>"
      ]
     },
     "metadata": {
      "needs_background": "light"
     },
     "output_type": "display_data"
    }
   ],
   "source": [
    "# Graph 2: Weekly report\n",
    "df['week'] = df['date'].dt.week\n",
    "### extract unnique weeks\n",
    "weeks = df['week'].unique()\n",
    "### initialize dic\n",
    "weekly_data = {}\n",
    "### calculate weekly percentage\n",
    "for i in weeks:\n",
    "    kcapital = 0\n",
    "    ktotal = 0\n",
    "    for j in range(df.shape[0]):\n",
    "            if(df['week'].iloc[j] == i): \n",
    "                kcapital += 1\n",
    "                if((df['cotizar_kavak_total'].iloc[j] == 'Yes') & \n",
    "                   (df['autorizacion_del_cliente'].iloc[j] == 'Yes')): ktotal += 1\n",
    "    weekly_data[i] = (float(ktotal)/float(kcapital))*100\n",
    "### create bar chart \n",
    "plt.xticks(weeks)\n",
    "plt.bar(weekly_data.keys(), weekly_data.values())\n",
    "plt.show()"
   ]
  },
  {
   "cell_type": "code",
   "execution_count": 294,
   "metadata": {},
   "outputs": [
    {
     "data": {
      "text/plain": [
       "<enumerate at 0x1a25e35230>"
      ]
     },
     "execution_count": 294,
     "metadata": {},
     "output_type": "execute_result"
    }
   ],
   "source": [
    "def autolabel(rects):\n",
    "    for idx,rect in enumerate(bar_plot1):\n",
    "        height = rect.get_height()\n",
    "        plt.text(rect.get_x() + rect.get_width()/2., 1.003*height,\n",
    "                round(y_month[idx], 2),\n",
    "                ha='center', va='bottom', rotation=0)"
   ]
  },
  {
   "cell_type": "code",
   "execution_count": null,
   "metadata": {},
   "outputs": [],
   "source": []
  },
  {
   "cell_type": "code",
   "execution_count": null,
   "metadata": {},
   "outputs": [],
   "source": []
  }
 ],
 "metadata": {
  "kernelspec": {
   "display_name": "python3",
   "language": "python",
   "name": "python3"
  },
  "language_info": {
   "codemirror_mode": {
    "name": "ipython",
    "version": 2
   },
   "file_extension": ".py",
   "mimetype": "text/x-python",
   "name": "python",
   "nbconvert_exporter": "python",
   "pygments_lexer": "ipython2",
   "version": "2.7.16"
  }
 },
 "nbformat": 4,
 "nbformat_minor": 2
}
