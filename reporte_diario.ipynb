{
 "cells": [
  {
   "cell_type": "code",
   "execution_count": 246,
   "metadata": {},
   "outputs": [],
   "source": [
    "# import libraries\n",
    "import numpy as np\n",
    "import pandas as pd\n",
    "import matplotlib.pyplot as plt"
   ]
  },
  {
   "cell_type": "code",
   "execution_count": 153,
   "metadata": {
    "scrolled": true
   },
   "outputs": [
    {
     "name": "stdout",
     "output_type": "stream",
     "text": [
      "(715, 3)\n"
     ]
    },
    {
     "data": {
      "text/html": [
       "<div>\n",
       "<style scoped>\n",
       "    .dataframe tbody tr th:only-of-type {\n",
       "        vertical-align: middle;\n",
       "    }\n",
       "\n",
       "    .dataframe tbody tr th {\n",
       "        vertical-align: top;\n",
       "    }\n",
       "\n",
       "    .dataframe thead th {\n",
       "        text-align: right;\n",
       "    }\n",
       "</style>\n",
       "<table border=\"1\" class=\"dataframe\">\n",
       "  <thead>\n",
       "    <tr style=\"text-align: right;\">\n",
       "      <th></th>\n",
       "      <th>date</th>\n",
       "      <th>cotizar_kavak_total</th>\n",
       "      <th>autorizacion_del_cliente</th>\n",
       "    </tr>\n",
       "    <tr>\n",
       "      <th>Estimate</th>\n",
       "      <th></th>\n",
       "      <th></th>\n",
       "      <th></th>\n",
       "    </tr>\n",
       "  </thead>\n",
       "  <tbody>\n",
       "    <tr>\n",
       "      <th>1968942</th>\n",
       "      <td>2020-08-01</td>\n",
       "      <td>No</td>\n",
       "      <td>No</td>\n",
       "    </tr>\n",
       "    <tr>\n",
       "      <th>1969160</th>\n",
       "      <td>2020-08-01</td>\n",
       "      <td>No</td>\n",
       "      <td>No</td>\n",
       "    </tr>\n",
       "    <tr>\n",
       "      <th>1969283</th>\n",
       "      <td>2020-08-01</td>\n",
       "      <td>No</td>\n",
       "      <td>No</td>\n",
       "    </tr>\n",
       "    <tr>\n",
       "      <th>1969677</th>\n",
       "      <td>2020-08-01</td>\n",
       "      <td>No</td>\n",
       "      <td>No</td>\n",
       "    </tr>\n",
       "    <tr>\n",
       "      <th>1969976</th>\n",
       "      <td>2020-08-01</td>\n",
       "      <td>No</td>\n",
       "      <td>No</td>\n",
       "    </tr>\n",
       "  </tbody>\n",
       "</table>\n",
       "</div>"
      ],
      "text/plain": [
       "               date cotizar_kavak_total autorizacion_del_cliente\n",
       "Estimate                                                        \n",
       "1968942  2020-08-01                  No                       No\n",
       "1969160  2020-08-01                  No                       No\n",
       "1969283  2020-08-01                  No                       No\n",
       "1969677  2020-08-01                  No                       No\n",
       "1969976  2020-08-01                  No                       No"
      ]
     },
     "execution_count": 153,
     "metadata": {},
     "output_type": "execute_result"
    }
   ],
   "source": [
    "# read file\n",
    "df = pd.read_csv(\"data_netsuite.csv\", index_col='Estimate')\n",
    "# clean data\n",
    "### clean col names\n",
    "df.columns = df.columns.str.strip().str.lower().str.replace(' ', '_').str.replace('\\(', '_').str.replace('\\)', '_')\n",
    "### format date col\n",
    "df['date'] = pd.to_datetime(df['date'])\n",
    "### only include cars with KCapital\n",
    "df =  df[df['financiamiento_ganado'] == 'Yes']\n",
    "### select relevant cols\n",
    "df = df[['date', 'cotizar_kavak_total', 'autorizacion_del_cliente']]\n",
    "# examine data\n",
    "print(df.shape)\n",
    "df.head()"
   ]
  },
  {
   "cell_type": "code",
   "execution_count": 248,
   "metadata": {
    "scrolled": true
   },
   "outputs": [
    {
     "data": {
      "text/plain": [
       "<BarContainer object of 4 artists>"
      ]
     },
     "execution_count": 248,
     "metadata": {},
     "output_type": "execute_result"
    },
    {
     "data": {
      "image/png": "[encoded data removed]",
      "text/plain": [
       "<Figure size 432x288 with 1 Axes>"
      ]
     },
     "metadata": {
      "needs_background": "light"
     },
     "output_type": "display_data"
    }
   ],
   "source": [
    "# Graph 1: Monthly report\n",
    "### create month col\n",
    "df['month'] = df['date'].dt.month\n",
    "### extract unnique months\n",
    "months = df['month'].unique()\n",
    "### initialize dic\n",
    "monthly_data = {}\n",
    "### calculate monthly percentage\n",
    "for i in months:\n",
    "    kcapital = 0\n",
    "    ktotal = 0\n",
    "    for j in range(df.shape[0]):\n",
    "            if(df['month'].iloc[j] == i): \n",
    "                kcapital += 1\n",
    "                if((df['cotizar_kavak_total'].iloc[j] == 'Yes') & \n",
    "                   (df['autorizacion_del_cliente'].iloc[j] == 'Yes')): ktotal += 1\n",
    "    monthly_data[i] = float(ktotal)/float(kcapital)\n",
    "### create bar chart \n",
    "keys_month = monthly_data.keys()\n",
    "values_month = monthly_data.values()\n",
    "plt.xticks(months)\n",
    "plt.bar(keys_month, values_month)"
   ]
  },
  {
   "cell_type": "code",
   "execution_count": 249,
   "metadata": {},
   "outputs": [
    {
     "data": {
      "text/plain": [
       "<BarContainer object of 15 artists>"
      ]
     },
     "execution_count": 249,
     "metadata": {},
     "output_type": "execute_result"
    },
    {
     "data": {
      "image/png": "[encoded data removed]",
      "text/plain": [
       "<Figure size 432x288 with 1 Axes>"
      ]
     },
     "metadata": {
      "needs_background": "light"
     },
     "output_type": "display_data"
    }
   ],
   "source": [
    "# Graph 2: Weekly report\n",
    "df['week'] = df['date'].dt.week\n",
    "### extract unnique weeks\n",
    "weeks = df['week'].unique()\n",
    "### initialize dic\n",
    "weekly_data = {}\n",
    "### calculate weekly percentage\n",
    "for i in weeks:\n",
    "    kcapital = 0\n",
    "    ktotal = 0\n",
    "    for j in range(df.shape[0]):\n",
    "            if(df['week'].iloc[j] == i): \n",
    "                kcapital += 1\n",
    "                if((df['cotizar_kavak_total'].iloc[j] == 'Yes') & \n",
    "                   (df['autorizacion_del_cliente'].iloc[j] == 'Yes')): ktotal += 1\n",
    "    weekly_data[i] = float(ktotal)/float(kcapital)\n",
    "### create bar chart \n",
    "keys_week = weekly_data.keys()\n",
    "values_week = weekly_data.values()\n",
    "plt.xticks(weeks)\n",
    "plt.bar(keys_week, values_week)"
   ]
  },
  {
   "cell_type": "code",
   "execution_count": null,
   "metadata": {},
   "outputs": [],
   "source": []
  }
 ],
 "metadata": {
  "kernelspec": {
   "display_name": "python3",
   "language": "python",
   "name": "python3"
  },
  "language_info": {
   "codemirror_mode": {
    "name": "ipython",
    "version": 2
   },
   "file_extension": ".py",
   "mimetype": "text/x-python",
   "name": "python",
   "nbconvert_exporter": "python",
   "pygments_lexer": "ipython2",
   "version": "2.7.16"
  }
 },
 "nbformat": 4,
 "nbformat_minor": 2
}
