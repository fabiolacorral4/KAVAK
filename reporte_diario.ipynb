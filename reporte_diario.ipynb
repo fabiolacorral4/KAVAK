{
 "cells": [
  {
   "cell_type": "code",
   "execution_count": 47,
   "metadata": {},
   "outputs": [],
   "source": [
    "# import libraries\n",
    "import numpy as np\n",
    "import pandas as pd\n",
    "import matplotlib.pyplot as plt\n",
    "from matplotlib.pyplot import figure"
   ]
  },
  {
   "cell_type": "code",
   "execution_count": 48,
   "metadata": {
    "scrolled": true
   },
   "outputs": [
    {
     "name": "stdout",
     "output_type": "stream",
     "text": [
      "(739, 3)\n"
     ]
    },
    {
     "data": {
      "text/html": [
       "<div>\n",
       "<style scoped>\n",
       "    .dataframe tbody tr th:only-of-type {\n",
       "        vertical-align: middle;\n",
       "    }\n",
       "\n",
       "    .dataframe tbody tr th {\n",
       "        vertical-align: top;\n",
       "    }\n",
       "\n",
       "    .dataframe thead th {\n",
       "        text-align: right;\n",
       "    }\n",
       "</style>\n",
       "<table border=\"1\" class=\"dataframe\">\n",
       "  <thead>\n",
       "    <tr style=\"text-align: right;\">\n",
       "      <th></th>\n",
       "      <th>dia_solicitud_aprobada</th>\n",
       "      <th>cotizar_kavak_total</th>\n",
       "      <th>autorizacion_del_cliente</th>\n",
       "    </tr>\n",
       "    <tr>\n",
       "      <th>Estimate</th>\n",
       "      <th></th>\n",
       "      <th></th>\n",
       "      <th></th>\n",
       "    </tr>\n",
       "  </thead>\n",
       "  <tbody>\n",
       "    <tr>\n",
       "      <th>1968942</th>\n",
       "      <td>2020-08-07</td>\n",
       "      <td>No</td>\n",
       "      <td>No</td>\n",
       "    </tr>\n",
       "    <tr>\n",
       "      <th>1969160</th>\n",
       "      <td>2020-08-08</td>\n",
       "      <td>No</td>\n",
       "      <td>No</td>\n",
       "    </tr>\n",
       "    <tr>\n",
       "      <th>1969283</th>\n",
       "      <td>2020-08-05</td>\n",
       "      <td>No</td>\n",
       "      <td>No</td>\n",
       "    </tr>\n",
       "    <tr>\n",
       "      <th>1969677</th>\n",
       "      <td>2020-08-03</td>\n",
       "      <td>No</td>\n",
       "      <td>No</td>\n",
       "    </tr>\n",
       "    <tr>\n",
       "      <th>1969976</th>\n",
       "      <td>2020-08-13</td>\n",
       "      <td>No</td>\n",
       "      <td>No</td>\n",
       "    </tr>\n",
       "  </tbody>\n",
       "</table>\n",
       "</div>"
      ],
      "text/plain": [
       "         dia_solicitud_aprobada cotizar_kavak_total autorizacion_del_cliente\n",
       "Estimate                                                                    \n",
       "1968942              2020-08-07                  No                       No\n",
       "1969160              2020-08-08                  No                       No\n",
       "1969283              2020-08-05                  No                       No\n",
       "1969677              2020-08-03                  No                       No\n",
       "1969976              2020-08-13                  No                       No"
      ]
     },
     "execution_count": 48,
     "metadata": {},
     "output_type": "execute_result"
    }
   ],
   "source": [
    "# read file\n",
    "df = pd.read_csv(\"data_netsuite10-11.csv\", index_col='Estimate')\n",
    "# clean data\n",
    "### clean col names\n",
    "df.columns = df.columns.str.strip().str.lower().str.replace(' ', '_').str.replace('\\(', '_').str.replace('\\)', '_')\n",
    "### format date col\n",
    "df['dia_solicitud_aprobada'] = pd.to_datetime(df['dia_solicitud_aprobada'])\n",
    "### only include cars with KCapital\n",
    "df =  df[df['financiamiento_ganado'] == 'Yes']\n",
    "### select relevant cols\n",
    "df = df[['dia_solicitud_aprobada', 'cotizar_kavak_total', 'autorizacion_del_cliente']]\n",
    "# examine data\n",
    "print(df.shape)\n",
    "df.head()"
   ]
  },
  {
   "cell_type": "code",
   "execution_count": 49,
   "metadata": {
    "scrolled": false
   },
   "outputs": [
    {
     "data": {
      "image/png": "[encoded data removed]",
      "text/plain": [
       "<Figure size 576x576 with 1 Axes>"
      ]
     },
     "metadata": {
      "needs_background": "light"
     },
     "output_type": "display_data"
    }
   ],
   "source": [
    "# Graph 1: Monthly report\n",
    "### create month col\n",
    "df['month'] = df['dia_solicitud_aprobada'].dt.month\n",
    "### initialize dics\n",
    "monthly_kcapital = {}\n",
    "monthly_data = {}\n",
    "### calculate monthly percentage\n",
    "for group, frame in df.groupby(['month']):\n",
    "    kcapital = len(frame)\n",
    "    ktotal = 0\n",
    "    for i in range(kcapital):\n",
    "        if((frame['cotizar_kavak_total'].iloc[i] == 'Yes') & \n",
    "                   (frame['autorizacion_del_cliente'].iloc[i] == 'Yes')): ktotal += 1\n",
    "    monthly_kcapital[group] = kcapital\n",
    "    monthly_data[group] = float(ktotal)/float(kcapital)\n",
    "### set x and y values\n",
    "x_month = monthly_data.keys()\n",
    "y_month = monthly_data.values()\n",
    "### create figure and format axes\n",
    "figure(figsize=(8,8))\n",
    "bar1 = plt.bar(x_month, y_month, alpha=.6, color=\"gray\")\n",
    "plt.title('Monthly KCapital-KTotal conversion rate', \n",
    "          fontdict={'fontsize': 20})\n",
    "plt.xticks(x_month, fontsize=15)\n",
    "plt.yticks([])\n",
    "### label each bar\n",
    "def autolabel(rects):\n",
    "    for idx,rect in enumerate(bar1):\n",
    "        height = rect.get_height()\n",
    "        plt.text(rect.get_x() + rect.get_width()/2., 1.008*height,\n",
    "                \"{:.2%}\".format(y_month[idx]), fontsize=12,\n",
    "                ha='center', va='bottom', rotation=0)\n",
    "        plt.text(rect.get_x() + rect.get_width()/2., .005,\n",
    "                monthly_kcapital.values()[idx], fontsize=12,\n",
    "                ha='center', va='bottom', rotation=0)\n",
    "autolabel(bar1)\n",
    "### add color to current bar\n",
    "bar1[len(x_month)-1].set_color('royalblue')\n",
    "### remove spines and tick marks\n",
    "plt.gca().spines['right'].set_visible(False)\n",
    "plt.gca().spines['top'].set_visible(False)\n",
    "plt.gca().spines['bottom'].set_visible(False)\n",
    "plt.gca().spines['left'].set_visible(False)\n",
    "plt.gca().tick_params(bottom=False)"
   ]
  },
  {
   "cell_type": "code",
   "execution_count": 50,
   "metadata": {},
   "outputs": [
    {
     "data": {
      "image/png": "[encoded data removed]",
      "text/plain": [
       "<Figure size 1080x576 with 1 Axes>"
      ]
     },
     "metadata": {
      "needs_background": "light"
     },
     "output_type": "display_data"
    }
   ],
   "source": [
    "# Graph 2: Weekly report\n",
    "df['week'] = df['dia_solicitud_aprobada'].dt.week\n",
    "### initialize dics\n",
    "weekly_kcapital = {}\n",
    "weekly_data = {}\n",
    "### calculate weekly percentage\n",
    "for group, frame in df.groupby(['week']):\n",
    "    kcapital = len(frame)\n",
    "    ktotal = 0\n",
    "    for i in range(kcapital):\n",
    "        if((frame['cotizar_kavak_total'].iloc[i] == 'Yes') & \n",
    "                   (frame['autorizacion_del_cliente'].iloc[i] == 'Yes')): ktotal += 1\n",
    "    weekly_kcapital[group] = kcapital\n",
    "    weekly_data[group] = float(ktotal)/float(kcapital)\n",
    "### set x and y values\n",
    "x_week = weekly_data.keys()\n",
    "y_week = weekly_data.values()\n",
    "### create figure and format axes\n",
    "figure(figsize=(15,8))\n",
    "bar2 = plt.bar(x_week, y_week, alpha=.6, color=\"gray\")\n",
    "plt.title('Weekly KCapital-KTotal conversion rate', \n",
    "          fontdict={'fontsize': 20})\n",
    "plt.xticks(x_week, fontsize=10)\n",
    "plt.yticks([])\n",
    "### label each bar\n",
    "def autolabel(rects):\n",
    "    for idx,rect in enumerate(bar2):\n",
    "        height = rect.get_height()\n",
    "        plt.text(rect.get_x() + rect.get_width()/2., .005,\n",
    "            weekly_kcapital.values()[idx], fontsize=12,\n",
    "            ha='center', va='bottom', rotation=0)\n",
    "        if(round(y_week[idx], 2) == 0.00): \n",
    "            continue \n",
    "        else:\n",
    "            plt.text(rect.get_x() + rect.get_width()/2., 1.003*height,\n",
    "                \"{:.2%}\".format(y_week[idx]), fontsize=10,\n",
    "                ha='center', va='bottom', rotation=0)\n",
    "\n",
    "autolabel(bar2)\n",
    "### add color to current bar\n",
    "bar2[len(x_week)-1].set_color('royalblue')\n",
    "### remove spines and tick marks\n",
    "plt.gca().spines['right'].set_visible(False)\n",
    "plt.gca().spines['top'].set_visible(False)\n",
    "plt.gca().spines['bottom'].set_visible(False)\n",
    "plt.gca().spines['left'].set_visible(False)\n",
    "plt.gca().tick_params(bottom=False)"
   ]
  },
  {
   "cell_type": "code",
   "execution_count": null,
   "metadata": {},
   "outputs": [],
   "source": []
  }
 ],
 "metadata": {
  "kernelspec": {
   "display_name": "python3",
   "language": "python",
   "name": "python3"
  },
  "language_info": {
   "codemirror_mode": {
    "name": "ipython",
    "version": 2
   },
   "file_extension": ".py",
   "mimetype": "text/x-python",
   "name": "python",
   "nbconvert_exporter": "python",
   "pygments_lexer": "ipython2",
   "version": "2.7.16"
  }
 },
 "nbformat": 4,
 "nbformat_minor": 2
}
